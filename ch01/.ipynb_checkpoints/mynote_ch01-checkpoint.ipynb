{
 "cells": [
  {
   "cell_type": "markdown",
   "metadata": {},
   "source": [
    "# 第一章笔记 统计学习方法概论"
   ]
  },
  {
   "cell_type": "markdown",
   "metadata": {},
   "source": [
    "## 1.3 统计学习三要素\n",
    "\n",
    "简单地说就是\"方法=模型+策略+算法\"。不管是监督学习、非监督学习还是强化学习，都具备这三个要素。"
   ]
  },
  {
   "cell_type": "markdown",
   "metadata": {},
   "source": [
    "## 1.3.1 模型\n",
    "\n",
    "当我们做统计练习时，首当其冲当问题就是，我们将学习什么样的模型。在supervised learning中，模型就是\n",
    "要学习的条件概率分布或者决策函数。模型的hypothesis space，包含所有条件概率分布或者决策函数。\n",
    "我们可以用$\\mathcal{F}$来代表hypothesis space，这样我们可以以集合的方式来表示它。\n",
    "我们可以将$\\mathcal{F}$表示为所有决策函数的集合：\n"
   ]
  },
  {
   "cell_type": "code",
   "execution_count": null,
   "metadata": {},
   "outputs": [],
   "source": []
  }
 ],
 "metadata": {
  "kernelspec": {
   "display_name": "Python 3",
   "language": "python",
   "name": "python3"
  },
  "language_info": {
   "codemirror_mode": {
    "name": "ipython",
    "version": 3
   },
   "file_extension": ".py",
   "mimetype": "text/x-python",
   "name": "python",
   "nbconvert_exporter": "python",
   "pygments_lexer": "ipython3",
   "version": "3.7.1"
  }
 },
 "nbformat": 4,
 "nbformat_minor": 2
}
